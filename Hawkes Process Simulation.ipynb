{
 "cells": [
  {
   "cell_type": "code",
   "execution_count": 1,
   "metadata": {},
   "outputs": [],
   "source": [
    "import numpy as np\n",
    "import matplotlib.pyplot as plt\n",
    "from scipy.interpolate import UnivariateSpline\n",
    "import random\n",
    "%matplotlib inline\n",
    "from tick.hawkes import SimuHawkesExpKernels\n",
    "from tick.plot import plot_point_process\n",
    "from tick.hawkes import SimuHawkes, HawkesKernelPowerLaw, HawkesConditionalLaw, HawkesKernel0\n",
    "from tick.plot import plot_hawkes_kernels\n",
    "import copy\n",
    "import time"
   ]
  },
  {
   "cell_type": "code",
   "execution_count": 2,
   "metadata": {},
   "outputs": [],
   "source": [
    "n_kernels = 6\n",
    "baselines = np.ones(n_kernels)\n",
    "cutoff = 1\n",
    "\n",
    "alpha_itm, alpha_atm, alpha_otm, alpha_itm_atm, alpha_otm_atm = 0.48, 0.52, 0.14, 0.18, 0.13\n",
    "gamma_itm, gamma_atm, gamma_otm, gamma_itm_atm, gamma_otm_atm = 0.08, 0.08, 0.08, 0.15, 0.15\n",
    "\n",
    "def _beta(gamma):\n",
    "    return (1 + gamma)\n",
    "\n",
    "def HawkesKernelITM(a):\n",
    "    return HawkesKernelPowerLaw(a*alpha_itm, cutoff, _beta(gamma_itm))\n",
    "\n",
    "def HawkesKernelATM(a):\n",
    "    return HawkesKernelPowerLaw(a*alpha_atm, cutoff, _beta(gamma_atm))\n",
    "\n",
    "def HawkesKernelOTM(a):\n",
    "    return HawkesKernelPowerLaw(a*alpha_otm, cutoff, _beta(gamma_otm))\n",
    "\n",
    "def HawkesKernelITM_ATM(a):\n",
    "    return HawkesKernelPowerLaw(a*alpha_itm_atm, cutoff, _beta(gamma_itm_atm))\n",
    "\n",
    "def HawkesKernelOTM_ATM(a):\n",
    "    return HawkesKernelPowerLaw(a*alpha_otm_atm, cutoff, _beta(gamma_otm_atm))"
   ]
  },
  {
   "cell_type": "code",
   "execution_count": 3,
   "metadata": {},
   "outputs": [],
   "source": [
    "def ker(tab) :\n",
    "    return np.matrix([\n",
    "    [\n",
    "        HawkesKernelITM(tab[0,0]), \n",
    "        HawkesKernelITM(tab[1,0]),\n",
    "        HawkesKernelITM_ATM(tab[2,0]),\n",
    "        HawkesKernelITM_ATM(tab[3,0]),\n",
    "        HawkesKernel0(), \n",
    "        HawkesKernel0()\n",
    "    ],\n",
    "    [\n",
    "        HawkesKernelITM(tab[0,1]), \n",
    "        HawkesKernelITM(tab[1,1]),\n",
    "        HawkesKernelITM_ATM(tab[2,1]),\n",
    "        HawkesKernelITM_ATM(tab[3,1]),\n",
    "        HawkesKernel0(), \n",
    "        HawkesKernel0()\n",
    "    ], \n",
    "    [\n",
    "        HawkesKernelITM_ATM(tab[0,2]),\n",
    "        HawkesKernelITM_ATM(tab[1,2]),\n",
    "        HawkesKernelATM(tab[2,2]), \n",
    "        HawkesKernelATM(tab[3,2]),\n",
    "        HawkesKernelOTM_ATM(tab[4,2]),\n",
    "        HawkesKernelOTM_ATM(tab[5,2])\n",
    "    ],\n",
    "    [\n",
    "        HawkesKernelITM_ATM(tab[0,3]),\n",
    "        HawkesKernelITM_ATM(tab[1,3]),\n",
    "        HawkesKernelATM(tab[2,3]), \n",
    "        HawkesKernelATM(tab[3,3]),\n",
    "        HawkesKernelOTM_ATM(tab[4,3]),\n",
    "        HawkesKernelOTM_ATM(tab[5,3])\n",
    "    ], \n",
    "    [\n",
    "        HawkesKernel0(), \n",
    "        HawkesKernel0(),\n",
    "        HawkesKernelOTM_ATM(tab[2,4]),\n",
    "        HawkesKernelOTM_ATM(tab[3,4]),\n",
    "        HawkesKernelOTM(tab[4,4]), \n",
    "        HawkesKernelOTM(tab[5,5])\n",
    "    ], \n",
    "    [\n",
    "        HawkesKernel0(), \n",
    "        HawkesKernel0(),\n",
    "        HawkesKernelOTM_ATM(tab[2,5]),\n",
    "        HawkesKernelOTM_ATM(tab[3,5]),\n",
    "        HawkesKernelOTM(tab[4,5]), \n",
    "        HawkesKernelOTM(tab[5,5])\n",
    "    ]])"
   ]
  },
  {
   "cell_type": "code",
   "execution_count": 4,
   "metadata": {},
   "outputs": [],
   "source": [
    "\"\"\"\n",
    "Simulation of 3-dimensional hawkes process\n",
    "==========================================\n",
    "\"\"\"\n",
    "def simulate_hawkes(tab,i) :\n",
    "    haw = SimuHawkes(\n",
    "        kernels=ker(tab), \n",
    "        baseline=baselines, seed=i, verbose=True, force_simulation = True)\n",
    "    dt = .01\n",
    "    haw.end_time = 7\n",
    "    haw.track_intensity(dt)\n",
    "    haw.simulate()\n",
    "    return haw"
   ]
  },
  {
   "cell_type": "code",
   "execution_count": 5,
   "metadata": {},
   "outputs": [
    {
     "data": {
      "text/plain": [
       "0.48*(1+t)^(-1.08)"
      ]
     },
     "execution_count": 5,
     "metadata": {},
     "output_type": "execute_result"
    }
   ],
   "source": [
    "HawkesKernelITM(1)"
   ]
  },
  {
   "cell_type": "code",
   "execution_count": 23,
   "metadata": {
    "scrolled": true
   },
   "outputs": [
    {
     "name": "stdout",
     "output_type": "stream",
     "text": [
      "----------------------------------------\n",
      "Launching simulation using SimuHawkes...\n",
      "Done simulating using SimuHawkes in 5.61e+00 seconds.\n",
      "[[1.  1.  1.1 1.1 1.  1. ]\n",
      " [1.  1.  1.  1.  1.  1. ]\n",
      " [1.  1.  1.  1.  1.  1. ]\n",
      " [1.  1.  1.  1.  1.  1. ]\n",
      " [1.  1.  1.  1.  1.  1. ]\n",
      " [1.  1.  1.1 1.1 1.  1. ]]\n",
      "----------------------------------------\n",
      "Launching simulation using SimuHawkes...\n",
      "Done simulating using SimuHawkes in 6.84e+00 seconds.\n"
     ]
    }
   ],
   "source": [
    "s=455\n",
    "\n",
    "hawkes = simulate_hawkes(np.ones((6,6)),s)\n",
    "\n",
    "mat = np.ones((6,6))\n",
    "\n",
    "mat[2,2] = 1.05                                               #scenario 1\n",
    "#mat[0,2], mat[5,2], mat[0,3], mat[5,3] = 1.1, 1.1, 1.1, 1.1   #scenario 2\n",
    "#mat[1,3], mat[5,3] = 1.2, 1.2                                 #scenario 3\n",
    "#mat[1,2], mat[4,2], mat[1,3], mat[4,3] = 1.1, 1.1, 1.1, 1.1   #scenario 4\n",
    "\n",
    "\n",
    "\n",
    "print(mat)\n",
    "hawkes2 = simulate_hawkes(mat.T,s)\n"
   ]
  },
  {
   "cell_type": "code",
   "execution_count": 24,
   "metadata": {},
   "outputs": [],
   "source": [
    "k1, k2, k3 = .98, 1, 1.02\n",
    "\n",
    "sigmas = [len(hawkes.timestamps[i])-len(hawkes.timestamps[i+1]) for i in [0,2,4]]\n",
    "sigmas2 = [len(hawkes2.timestamps[i])-len(hawkes2.timestamps[i+1]) for i in [0,2,4]]"
   ]
  },
  {
   "cell_type": "code",
   "execution_count": 26,
   "metadata": {
    "scrolled": true
   },
   "outputs": [
    {
     "name": "stderr",
     "output_type": "stream",
     "text": [
      "The PostScript backend does not support transparency; partially transparent artists will be rendered opaque.\n",
      "The PostScript backend does not support transparency; partially transparent artists will be rendered opaque.\n"
     ]
    },
    {
     "data": {
      "image/png": "[encoded data removed]",
      "text/plain": [
       "<Figure size 432x288 with 1 Axes>"
      ]
     },
     "metadata": {
      "needs_background": "light"
     },
     "output_type": "display_data"
    }
   ],
   "source": [
    "x = [k1, k2, k3]\n",
    "xnew = np.linspace(k1, k3, 300) \n",
    "\n",
    "spl = UnivariateSpline(x, sigmas, k=2)\n",
    "spl2 = UnivariateSpline(x, sigmas2, k=2)\n",
    "plt.plot(xnew,spl(xnew),label='Initial surface')\n",
    "plt.plot(xnew,spl2(xnew),label='Modified surface')\n",
    "plt.gca().axes.get_yaxis().set_visible(False)\n",
    "plt.xlabel(\"Log-Moneyness\")\n",
    "plt.legend()"
   ]
  },
  {
   "cell_type": "code",
   "execution_count": null,
   "metadata": {},
   "outputs": [],
   "source": []
  },
  {
   "cell_type": "code",
   "execution_count": null,
   "metadata": {},
   "outputs": [],
   "source": []
  },
  {
   "cell_type": "code",
   "execution_count": null,
   "metadata": {},
   "outputs": [],
   "source": []
  }
 ],
 "metadata": {
  "kernelspec": {
   "display_name": "Python 3",
   "language": "python",
   "name": "python3"
  },
  "language_info": {
   "codemirror_mode": {
    "name": "ipython",
    "version": 3
   },
   "file_extension": ".py",
   "mimetype": "text/x-python",
   "name": "python",
   "nbconvert_exporter": "python",
   "pygments_lexer": "ipython3",
   "version": "3.7.1"
  }
 },
 "nbformat": 4,
 "nbformat_minor": 2
}
